{
 "cells": [
  {
   "cell_type": "code",
   "execution_count": 1,
   "id": "b632df8c-22ba-4042-8137-5f9911d792e0",
   "metadata": {},
   "outputs": [
    {
     "name": "stderr",
     "output_type": "stream",
     "text": [
      "[nltk_data] Downloading package punkt to\n",
      "[nltk_data]     C:\\Users\\TARUN\\AppData\\Roaming\\nltk_data...\n",
      "[nltk_data]   Unzipping tokenizers\\punkt.zip.\n"
     ]
    },
    {
     "data": {
      "text/plain": [
       "True"
      ]
     },
     "execution_count": 1,
     "metadata": {},
     "output_type": "execute_result"
    }
   ],
   "source": [
    "import nltk \n",
    "nltk.download('punkt') "
   ]
  },
  {
   "cell_type": "code",
   "execution_count": 2,
   "id": "b2b7bd57-e353-4276-a58f-6f37863adcf7",
   "metadata": {},
   "outputs": [
    {
     "name": "stderr",
     "output_type": "stream",
     "text": [
      "[nltk_data] Downloading package averaged_perceptron_tagger to\n",
      "[nltk_data]     C:\\Users\\TARUN\\AppData\\Roaming\\nltk_data...\n",
      "[nltk_data]   Unzipping taggers\\averaged_perceptron_tagger.zip.\n"
     ]
    },
    {
     "data": {
      "text/plain": [
       "True"
      ]
     },
     "execution_count": 2,
     "metadata": {},
     "output_type": "execute_result"
    }
   ],
   "source": [
    "nltk.download('averaged_perceptron_tagger') "
   ]
  },
  {
   "cell_type": "code",
   "execution_count": 3,
   "id": "4730256e-32ca-42cf-b812-6f43221332e3",
   "metadata": {},
   "outputs": [
    {
     "data": {
      "text/plain": [
       "['The', 'quick', 'brown', 'fox', 'jumped', 'over', 'the', 'lazy', 'dog', '.']"
      ]
     },
     "execution_count": 3,
     "metadata": {},
     "output_type": "execute_result"
    }
   ],
   "source": [
    "corpus = \"The quick brown fox jumped over the lazy dog.\" \n",
    "tokens = nltk.word_tokenize(corpus) \n",
    "tokens"
   ]
  },
  {
   "cell_type": "code",
   "execution_count": 4,
   "id": "3ec5b7c3-1bef-4c5d-970f-eeffef25ceb6",
   "metadata": {},
   "outputs": [],
   "source": [
    "# Define the grammar for chunking \n",
    "grammar = r\"\"\" \n",
    " NP: {<DT>?<JJ>*<NN>} # chunking for noun phrases \n",
    " VP: {<VB.*><NP|PP|CLAUSE>+$} # chunking for verb phrases\"\"\" \n",
    "chinkgrammar = r\"\"\"\n",
    " NP: {<.*>+} # chinking for everything \n",
    " }<VBZ|VBP|VB|MD>{ # except verbs\"\"\""
   ]
  },
  {
   "cell_type": "code",
   "execution_count": 5,
   "id": "8c7bc535-2e5e-4b6f-b241-4e0951658263",
   "metadata": {},
   "outputs": [],
   "source": [
    "chunk_parser = nltk.RegexpParser(grammar)\n",
    "chink_parser = nltk.RegexpParser(chinkgrammar) "
   ]
  },
  {
   "cell_type": "code",
   "execution_count": 6,
   "id": "c59331f4-0083-4b42-9bad-f327c95b3dac",
   "metadata": {},
   "outputs": [
    {
     "name": "stdout",
     "output_type": "stream",
     "text": [
      "(S\n",
      "  (NP The/DT quick/JJ brown/NN)\n",
      "  (NP fox/NN)\n",
      "  jumped/VBD\n",
      "  over/IN\n",
      "  (NP the/DT lazy/JJ dog/NN)\n",
      "  ./.)\n",
      "(S\n",
      "  (NP\n",
      "    (NP The/DT quick/JJ brown/NN)\n",
      "    (NP fox/NN)\n",
      "    jumped/VBD\n",
      "    over/IN\n",
      "    (NP the/DT lazy/JJ dog/NN)\n",
      "    ./.))\n"
     ]
    }
   ],
   "source": [
    "chunked = chunk_parser.parse(nltk.pos_tag(tokens)) \n",
    "chinked = chink_parser.parse(chunked) \n",
    "print(chunked) \n",
    "print(chinked)"
   ]
  },
  {
   "cell_type": "code",
   "execution_count": null,
   "id": "ab17f084-c317-47cc-bd30-6b73eeb0ddb1",
   "metadata": {},
   "outputs": [],
   "source": []
  }
 ],
 "metadata": {
  "kernelspec": {
   "display_name": "Python 3 (ipykernel)",
   "language": "python",
   "name": "python3"
  },
  "language_info": {
   "codemirror_mode": {
    "name": "ipython",
    "version": 3
   },
   "file_extension": ".py",
   "mimetype": "text/x-python",
   "name": "python",
   "nbconvert_exporter": "python",
   "pygments_lexer": "ipython3",
   "version": "3.10.5"
  }
 },
 "nbformat": 4,
 "nbformat_minor": 5
}
