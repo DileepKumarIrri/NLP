{
 "cells": [
  {
   "cell_type": "markdown",
   "id": "455a379b",
   "metadata": {},
   "source": [
    "# Week-8"
   ]
  },
  {
   "cell_type": "markdown",
   "id": "92dfd3fd",
   "metadata": {},
   "source": [
    "# Aim:- Write a program to implement various stemming techniques and prepare a chart with the performance of each method."
   ]
  },
  {
   "cell_type": "code",
   "execution_count": 1,
   "id": "a68ac469",
   "metadata": {},
   "outputs": [],
   "source": [
    "import nltk\n",
    "from nltk.stem import PorterStemmer\n",
    "from nltk.corpus import stopwords"
   ]
  },
  {
   "cell_type": "code",
   "execution_count": 12,
   "id": "3c87a329",
   "metadata": {},
   "outputs": [],
   "source": [
    "sample_text = \"\"\"Data science is an interdisciplinary field that uses \n",
    "scientific methods, processes, algorithms, and systems to extract knowledge\n",
    "and insights from structured and unstructured data.  Data science is \n",
    "related to data mining, machine learning, and big data.\"\"\""
   ]
  },
  {
   "cell_type": "code",
   "execution_count": 13,
   "id": "59523250",
   "metadata": {},
   "outputs": [
    {
     "name": "stdout",
     "output_type": "stream",
     "text": [
      "['Data', 'science', 'is', 'an', 'interdisciplinary', 'field', 'that', 'uses', 'scientific', 'methods', ',', 'processes', ',', 'algorithms', ',', 'and', 'systems', 'to', 'extract', 'knowledge', 'and', 'insights', 'from', 'structured', 'and', 'unstructured', 'data', '.', 'Data', 'science', 'is', 'related', 'to', 'data', 'mining', ',', 'machine', 'learning', ',', 'and', 'big', 'data', '.']\n"
     ]
    }
   ],
   "source": [
    "tokens = nltk.word_tokenize(sample_text)\n",
    "print(tokens)"
   ]
  },
  {
   "cell_type": "code",
   "execution_count": 14,
   "id": "a2c1489d",
   "metadata": {},
   "outputs": [
    {
     "name": "stdout",
     "output_type": "stream",
     "text": [
      "['Data', 'science', 'interdisciplinary', 'field', 'uses', 'scientific', 'methods', ',', 'processes', ',', 'algorithms', ',', 'systems', 'extract', 'knowledge', 'insights', 'structured', 'unstructured', 'data', '.', 'Data', 'science', 'related', 'data', 'mining', ',', 'machine', 'learning', ',', 'big', 'data', '.']\n"
     ]
    }
   ],
   "source": [
    "stop_words = stopwords.words('english')\n",
    "filtered_words = [token for token in tokens if token.lower() not in stop_words]\n",
    "print(filtered_words)"
   ]
  },
  {
   "cell_type": "code",
   "execution_count": 15,
   "id": "f6ef8a7d",
   "metadata": {},
   "outputs": [
    {
     "name": "stdout",
     "output_type": "stream",
     "text": [
      "['data', 'scienc', 'interdisciplinari', 'field', 'use', 'scientif', 'method', ',', 'process', ',', 'algorithm', ',', 'system', 'extract', 'knowledg', 'insight', 'structur', 'unstructur', 'data', '.', 'data', 'scienc', 'relat', 'data', 'mine', ',', 'machin', 'learn', ',', 'big', 'data', '.']\n"
     ]
    }
   ],
   "source": [
    "porterstemmer = PorterStemmer()\n",
    "stemmed_words = [porterstemmer.stem(word) for word in filtered_words]\n",
    "print(stemmed_words)"
   ]
  },
  {
   "cell_type": "code",
   "execution_count": 16,
   "id": "04b5e3d1",
   "metadata": {},
   "outputs": [
    {
     "data": {
      "text/plain": [
       "'data scienc interdisciplinari field use scientif method , process , algorithm , system extract knowledg insight structur unstructur data . data scienc relat data mine , machin learn , big data .'"
      ]
     },
     "execution_count": 16,
     "metadata": {},
     "output_type": "execute_result"
    }
   ],
   "source": [
    "\" \".join(stemmed_words)\n"
   ]
  },
  {
   "cell_type": "code",
   "execution_count": null,
   "id": "7cb0c7ff",
   "metadata": {},
   "outputs": [],
   "source": []
  },
  {
   "cell_type": "code",
   "execution_count": 17,
   "id": "861ca1ed",
   "metadata": {},
   "outputs": [],
   "source": [
    "# Porter Stemmer\n",
    "from nltk.stem import PorterStemmer\n",
    "porter = PorterStemmer()"
   ]
  },
  {
   "cell_type": "code",
   "execution_count": 20,
   "id": "449094c4",
   "metadata": {},
   "outputs": [
    {
     "name": "stdout",
     "output_type": "stream",
     "text": [
      "actual word: generous    stemmed word: gener\n",
      "actual word: generate    stemmed word: gener\n",
      "actual word: generously    stemmed word: gener\n",
      "actual word: generation    stemmed word: gener\n"
     ]
    }
   ],
   "source": [
    "words = ['generous','generate','generously','generation']\n",
    "for word in words:\n",
    "    print(\"actual word:\",word,\"   stemmed word:\", porter.stem(word))"
   ]
  },
  {
   "cell_type": "code",
   "execution_count": 37,
   "id": "8671f886",
   "metadata": {},
   "outputs": [
    {
     "name": "stdout",
     "output_type": "stream",
     "text": [
      "actual word: generous    stemmed word: generous\n",
      "actual word: generate    stemmed word: generat\n",
      "actual word: generously    stemmed word: generous\n",
      "actual word: generation    stemmed word: generat\n"
     ]
    }
   ],
   "source": [
    "# Snowball Stemmer\n",
    "from nltk.stem import SnowballStemmer\n",
    "snow = SnowballStemmer(language='english')\n",
    "words = ['generous','generate','generously','generation']\n",
    "for word in words:\n",
    "    print(\"actual word:\",word,\"   stemmed word:\", snow.stem(word))"
   ]
  },
  {
   "cell_type": "code",
   "execution_count": 25,
   "id": "7368f4be",
   "metadata": {},
   "outputs": [
    {
     "name": "stdout",
     "output_type": "stream",
     "text": [
      "actual word: eating    stemmed word: eat\n",
      "actual word: eats    stemmed word: eat\n",
      "actual word: eaten    stemmed word: eat\n",
      "actual word: puts    stemmed word: put\n",
      "actual word: putting    stemmed word: put\n"
     ]
    }
   ],
   "source": [
    "# Lancaster Stemmer\n",
    "from nltk.stem import LancasterStemmer\n",
    "lancaster = LancasterStemmer()\n",
    "words = ['eating','eats','eaten','puts','putting']\n",
    "for word in words:\n",
    "    print(\"actual word:\",word,\"   stemmed word:\", lancaster.stem(word))"
   ]
  },
  {
   "cell_type": "code",
   "execution_count": 30,
   "id": "925436c7",
   "metadata": {},
   "outputs": [
    {
     "name": "stdout",
     "output_type": "stream",
     "text": [
      "actual word: mass    stemmed word: mas\n",
      "actual word: was    stemmed word: was\n",
      "actual word: bee    stemmed word: bee\n",
      "actual word: computer    stemmed word: computer\n",
      "actual word: advisable    stemmed word: advis\n"
     ]
    }
   ],
   "source": [
    "# REGEXP STEMMER \n",
    "from nltk.stem import RegexpStemmer\n",
    "regexp = RegexpStemmer('ing$|s$|e$|able$',min = 4)\n",
    "words = ['mass','was','bee','computer','advisable']\n",
    "for word in words:\n",
    "    print(\"actual word:\",word,\"   stemmed word:\", regexp.stem(word))"
   ]
  },
  {
   "cell_type": "code",
   "execution_count": 38,
   "id": "9d4f6bcf",
   "metadata": {},
   "outputs": [
    {
     "name": "stdout",
     "output_type": "stream",
     "text": [
      "Word           Porter Stemmer      Snowball Stemmer    Lancaster Stemmer   Regexp Stemmer      \n",
      "friend         friend              friend              friend              friend              \n",
      "friendship     friendship          friendship          friend              friendship          \n",
      "friends        friend              friend              friend              friend              \n",
      "friendships    friendship          friendship          friend              friendship          \n"
     ]
    }
   ],
   "source": [
    "# comparision between stemmers\n",
    "word_list = [\"friend\", \"friendship\", \"friends\", \"friendships\"]\n",
    "print(\"{0:15}{1:20}{2:20}{3:20}{4:20}\".format(\"Word\",\"Porter Stemmer\",\"Snowball Stemmer\",\"Lancaster Stemmer\",'Regexp Stemmer'))\n",
    "for word in word_list: \n",
    "    print(\"{0:15}{1:20}{2:20}{3:20}{4:20}\".format(word,porter.stem(word),snow.stem(word),lancaster.stem(word),\n",
    "                                                  regexp.stem(word))) "
   ]
  }
 ],
 "metadata": {
  "kernelspec": {
   "display_name": "Python 3 (ipykernel)",
   "language": "python",
   "name": "python3"
  },
  "language_info": {
   "codemirror_mode": {
    "name": "ipython",
    "version": 3
   },
   "file_extension": ".py",
   "mimetype": "text/x-python",
   "name": "python",
   "nbconvert_exporter": "python",
   "pygments_lexer": "ipython3",
   "version": "3.9.12"
  }
 },
 "nbformat": 4,
 "nbformat_minor": 5
}
