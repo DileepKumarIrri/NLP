{
 "cells": [
  {
   "cell_type": "markdown",
   "id": "9acf2947",
   "metadata": {},
   "source": [
    "# Week-6"
   ]
  },
  {
   "cell_type": "markdown",
   "id": "1d181231",
   "metadata": {},
   "source": [
    "# (i) Aim:- Write a program to identify all antonyms and synonyms of a word"
   ]
  },
  {
   "cell_type": "code",
   "execution_count": 5,
   "id": "f69fc9a9",
   "metadata": {
    "scrolled": false
   },
   "outputs": [
    {
     "name": "stdout",
     "output_type": "stream",
     "text": [
      "enter a word: brave\n",
      "Synonyms of brave: {'endure', 'brave_out', 'hardy', 'unfearing', 'braw', 'gay', 'weather', 'audacious', 'dauntless', 'courageous', 'fearless', 'intrepid'}\n",
      "\n",
      "Antonyms of brave: {'timid', 'cowardly'}\n"
     ]
    }
   ],
   "source": [
    "import nltk \n",
    "from nltk.corpus import wordnet  \n",
    " \n",
    "word = input(\"enter a word: \") \n",
    " \n",
    "synonyms = [] \n",
    "for syn in wordnet.synsets(word): \n",
    "    for lemma in syn.lemmas():\n",
    "        if lemma.name() != word: \n",
    "            synonyms.append(lemma.name()) \n",
    "            \n",
    "antonyms = [] \n",
    "for syn in wordnet.synsets(word): \n",
    "    for lemma in syn.lemmas(): \n",
    "        for antonym in lemma.antonyms(): \n",
    "            antonyms.append(antonym.name())\n",
    "            \n",
    "print(\"Synonyms of\", word + \":\", set(synonyms)) \n",
    "print()\n",
    "print(\"Antonyms of\", word + \":\", set(antonyms))"
   ]
  },
  {
   "cell_type": "code",
   "execution_count": null,
   "id": "bcb2485f",
   "metadata": {},
   "outputs": [],
   "source": []
  },
  {
   "cell_type": "markdown",
   "id": "1e9441bc",
   "metadata": {},
   "source": [
    "# (ii) Aim:-  Write a program to find hyponymy, homonymy, polysemy for a given word."
   ]
  },
  {
   "cell_type": "code",
   "execution_count": 9,
   "id": "611fb470",
   "metadata": {},
   "outputs": [
    {
     "name": "stdout",
     "output_type": "stream",
     "text": [
      "enter a word:bank\n",
      "Hyponyms of bank: {'commercial_bank', 'lean', 'soil_bank', 'credit', 'eye_bank', 'count', 'agent_bank', 'credit_union', 'food_bank', 'piggy_bank', 'redeposit', 'merchant_bank', 'riverbank', 'waterside', 'acquirer', 'state_bank', 'vertical_bank', 'bluff', 'thrift_institution', 'member_bank', 'sandbank', 'Federal_Reserve_Bank', 'lead_bank', 'Home_Loan_Bank', 'blood_bank'}\n",
      "Homonyms of bank: {'bank_building', 'savings_bank', 'deposit', 'swear', 'banking_company', 'camber', 'depository_financial_institution', 'coin_bank', 'money_box', 'trust', 'cant', 'banking_concern', 'rely'}\n",
      "Polysemy of bank: 18\n"
     ]
    }
   ],
   "source": [
    "from nltk.corpus import wordnet \n",
    "\n",
    "word = input(\"enter a word:\") \n",
    "\n",
    "hyponyms = set() \n",
    "for synset in wordnet.synsets(word): \n",
    "    for hyponym in synset.hyponyms(): \n",
    "        hyponyms.add(hyponym.lemmas()[0].name()) \n",
    " \n",
    "homonyms = set() \n",
    "for synset in wordnet.synsets(word): \n",
    "    for lemma in synset.lemmas(): \n",
    "        if lemma.name() != word: \n",
    "            homonyms.add(lemma.name()) \n",
    " \n",
    "senses = len(wordnet.synsets(word))\n",
    "\n",
    "print(\"Hyponyms of\", word + \":\", hyponyms) \n",
    "print(\"Homonyms of\", word + \":\", homonyms) \n",
    "print(\"Polysemy of\", word + \":\", senses)"
   ]
  }
 ],
 "metadata": {
  "kernelspec": {
   "display_name": "Python 3 (ipykernel)",
   "language": "python",
   "name": "python3"
  },
  "language_info": {
   "codemirror_mode": {
    "name": "ipython",
    "version": 3
   },
   "file_extension": ".py",
   "mimetype": "text/x-python",
   "name": "python",
   "nbconvert_exporter": "python",
   "pygments_lexer": "ipython3",
   "version": "3.9.12"
  }
 },
 "nbformat": 4,
 "nbformat_minor": 5
}
