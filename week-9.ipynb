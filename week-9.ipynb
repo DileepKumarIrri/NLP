{
 "cells": [
  {
   "cell_type": "markdown",
   "id": "ca0e863c",
   "metadata": {},
   "source": [
    "# Week-9"
   ]
  },
  {
   "cell_type": "markdown",
   "id": "1213ded4",
   "metadata": {},
   "source": [
    "# Aim:-  Write a program to implement various lemmatization techniques and prepare a chart with the performance of each method."
   ]
  },
  {
   "cell_type": "code",
   "execution_count": 12,
   "id": "c5a64243",
   "metadata": {},
   "outputs": [],
   "source": [
    "import nltk\n",
    "import time \n",
    "import spacy \n",
    "from textblob import Word \n",
    "import pattern\n"
   ]
  },
  {
   "cell_type": "code",
   "execution_count": 13,
   "id": "a864fb71",
   "metadata": {},
   "outputs": [],
   "source": [
    "# pip install pattern"
   ]
  },
  {
   "cell_type": "code",
   "execution_count": 14,
   "id": "6189951a-830d-4f22-8e81-89d2dec5cddf",
   "metadata": {},
   "outputs": [],
   "source": [
    "words=['watching','eating','sleeping','series','scrolling','phone']"
   ]
  },
  {
   "cell_type": "code",
   "execution_count": 15,
   "id": "96cf557c-53d9-4af7-a8b7-c4acee1a6a49",
   "metadata": {},
   "outputs": [],
   "source": [
    "nlp=spacy.load('en_core_web_sm')"
   ]
  },
  {
   "cell_type": "code",
   "execution_count": 16,
   "id": "2de4c03f-2857-4e8d-a461-de8120e53530",
   "metadata": {},
   "outputs": [],
   "source": [
    "def run_lem(lemmatizer,words): \n",
    "  start=time.time() \n",
    "  lemm=[lemmatizer(word) for word in words] \n",
    "  end=time.time() \n",
    "  tim=end-start \n",
    "  return lemm,tim"
   ]
  },
  {
   "cell_type": "code",
   "execution_count": 18,
   "id": "dd50551a-5faf-452c-bc84-e02fc83a2087",
   "metadata": {},
   "outputs": [
    {
     "name": "stdout",
     "output_type": "stream",
     "text": [
      "comparing\n",
      "\n",
      "wordnet:\n",
      "['watching', 'eating', 'sleeping', 'series', 'scrolling', 'phone']\n",
      "0.0\n"
     ]
    }
   ],
   "source": [
    "print(\"comparing\") \n",
    "print() \n",
    "print(\"wordnet:\")\n",
    "word_lem,word_time=run_lem(nltk.WordNetLemmatizer().lemmatize,words) \n",
    "print(word_lem) \n",
    "print(word_time)"
   ]
  },
  {
   "cell_type": "code",
   "execution_count": 8,
   "id": "5b224569-c82d-49bb-8b8f-c6a7346dbe8f",
   "metadata": {},
   "outputs": [
    {
     "name": "stdout",
     "output_type": "stream",
     "text": [
      "spacy:\n",
      "['watch', 'eat', 'sleep', 'series', 'scroll', 'phone']\n",
      "0.06447076797485352\n"
     ]
    }
   ],
   "source": [
    "print(\"spacy:\") \n",
    "nlp_lem,nlp_time=run_lem(lambda word:nlp(word)[0].lemma_,words) \n",
    "print(nlp_lem) \n",
    "print(nlp_time) "
   ]
  },
  {
   "cell_type": "code",
   "execution_count": 9,
   "id": "5b484675-d31b-4057-9737-5eb2677f71c2",
   "metadata": {},
   "outputs": [
    {
     "name": "stdout",
     "output_type": "stream",
     "text": [
      "textblob:\n",
      "['watching', 'eating', 'sleeping', 'series', 'scrolling', 'phone']\n",
      "0.0\n"
     ]
    }
   ],
   "source": [
    "print(\"textblob:\") \n",
    "blob_lem,blob_time=run_lem(lambda word:Word(word).lemmatize(),words) \n",
    "print(blob_lem) \n",
    "print(blob_time)"
   ]
  }
 ],
 "metadata": {
  "kernelspec": {
   "display_name": "Python 3 (ipykernel)",
   "language": "python",
   "name": "python3"
  },
  "language_info": {
   "codemirror_mode": {
    "name": "ipython",
    "version": 3
   },
   "file_extension": ".py",
   "mimetype": "text/x-python",
   "name": "python",
   "nbconvert_exporter": "python",
   "pygments_lexer": "ipython3",
   "version": "3.10.5"
  }
 },
 "nbformat": 4,
 "nbformat_minor": 5
}
