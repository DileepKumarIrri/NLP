{
 "cells": [
  {
   "cell_type": "code",
   "execution_count": 2,
   "id": "9fdbd8d1-d3da-4a45-bf16-874cad84edbe",
   "metadata": {},
   "outputs": [
    {
     "name": "stdout",
     "output_type": "stream",
     "text": [
      "original text is:  Natural language processing (NLP) is a field of study focused on the interactions between hum\n",
      " an language and computers. It involves the development of algorithms and models that can understand\n",
      " , analyze, and generate natural language. NLP is used in a variety of applications, including machine t\n",
      " ranslation, sentiment analysis, text classification, chatbots, and speech recognition. The field of NLP i\n",
      " s constantly evolving, and new techniques and models are being developed to improve the accuracy a\n",
      " nd efficiency of natural language processing tasks.\n",
      "after lower casing: natural language processing (nlp) is a field of study focused on the interactions between hum\n",
      " an language and computers. it involves the development of algorithms and models that can understand\n",
      " , analyze, and generate natural language. nlp is used in a variety of applications, including machine t\n",
      " ranslation, sentiment analysis, text classification, chatbots, and speech recognition. the field of nlp i\n",
      " s constantly evolving, and new techniques and models are being developed to improve the accuracy a\n",
      " nd efficiency of natural language processing tasks.\n",
      "after removing punctuations: natural language processing nlp is a field of study focused on the interactions between hum\n",
      " an language and computers it involves the development of algorithms and models that can understand\n",
      "  analyze and generate natural language nlp is used in a variety of applications including machine t\n",
      " ranslation sentiment analysis text classification chatbots and speech recognition the field of nlp i\n",
      " s constantly evolving and new techniques and models are being developed to improve the accuracy a\n",
      " nd efficiency of natural language processing tasks\n",
      "after tokenizing: ['natural', 'language', 'processing', 'nlp', 'is', 'a', 'field', 'of', 'study', 'focused', 'on', 'the', 'interactions', 'between', 'hum', 'an', 'language', 'and', 'computers', 'it', 'involves', 'the', 'development', 'of', 'algorithms', 'and', 'models', 'that', 'can', 'understand', 'analyze', 'and', 'generate', 'natural', 'language', 'nlp', 'is', 'used', 'in', 'a', 'variety', 'of', 'applications', 'including', 'machine', 't', 'ranslation', 'sentiment', 'analysis', 'text', 'classification', 'chatbots', 'and', 'speech', 'recognition', 'the', 'field', 'of', 'nlp', 'i', 's', 'constantly', 'evolving', 'and', 'new', 'techniques', 'and', 'models', 'are', 'being', 'developed', 'to', 'improve', 'the', 'accuracy', 'a', 'nd', 'efficiency', 'of', 'natural', 'language', 'processing', 'tasks']\n",
      "after removing stopwords: ['natural', 'language', 'processing', 'nlp', 'field', 'study', 'focused', 'interactions', 'hum', 'language', 'computers', 'involves', 'development', 'algorithms', 'models', 'understand', 'analyze', 'generate', 'natural', 'language', 'nlp', 'used', 'variety', 'applications', 'including', 'machine', 'ranslation', 'sentiment', 'analysis', 'text', 'classification', 'chatbots', 'speech', 'recognition', 'field', 'nlp', 'constantly', 'evolving', 'new', 'techniques', 'models', 'developed', 'improve', 'accuracy', 'nd', 'efficiency', 'natural', 'language', 'processing', 'tasks']\n",
      "after lemmatization: ['natural', 'language', 'processing', 'nlp', 'field', 'study', 'focused', 'interaction', 'hum', 'language', 'computer', 'involves', 'development', 'algorithm', 'model', 'understand', 'analyze', 'generate', 'natural', 'language', 'nlp', 'used', 'variety', 'application', 'including', 'machine', 'ranslation', 'sentiment', 'analysis', 'text', 'classification', 'chatbots', 'speech', 'recognition', 'field', 'nlp', 'constantly', 'evolving', 'new', 'technique', 'model', 'developed', 'improve', 'accuracy', 'nd', 'efficiency', 'natural', 'language', 'processing', 'task']\n",
      "finally the joined text is:\n"
     ]
    },
    {
     "data": {
      "text/plain": [
       "'natural language processing nlp field study focused interaction hum language computer involves development algorithm model understand analyze generate natural language nlp used variety application including machine ranslation sentiment analysis text classification chatbots speech recognition field nlp constantly evolving new technique model developed improve accuracy nd efficiency natural language processing task'"
      ]
     },
     "execution_count": 2,
     "metadata": {},
     "output_type": "execute_result"
    }
   ],
   "source": [
    "import re \n",
    "import string \n",
    "import nltk \n",
    "from nltk.tokenize import word_tokenize \n",
    "from nltk.corpus import stopwords \n",
    "from nltk.stem import WordNetLemmatizer \n",
    "def preprocess(text): \n",
    "# Convert to lowercase \n",
    "  text = text.lower() \n",
    "  print(\"after lower casing:\",text) \n",
    "# Remove numbers \n",
    "  text = re.sub(r'\\d+', '', text) \n",
    "# Remove punctuation \n",
    "  text = text.translate(str.maketrans('', '', string.punctuation)) \n",
    "  print(\"after removing punctuations:\",text) \n",
    "# Tokenize the text \n",
    "  tokens = word_tokenize(text) \n",
    "  print(\"after tokenizing:\",tokens) \n",
    "# Remove stop words \n",
    "  stop_words = set(stopwords.words('english')) \n",
    "  tokens = [token for token in tokens if token not in stop_words] \n",
    "  print(\"after removing stopwords:\",tokens) \n",
    "# Lemmatize the text \n",
    "  lemmatizer = WordNetLemmatizer() \n",
    "  tokens = [lemmatizer.lemmatize(token) for token in tokens] \n",
    "  print(\"after lemmatization:\",tokens) \n",
    "# Join the tokens back into a string \n",
    "  text = ' '.join(tokens) \n",
    "  print(\"finally the joined text is:\") \n",
    "  return text \n",
    "text = '''Natural language processing (NLP) is a field of study focused on the interactions between hum\n",
    " an language and computers. It involves the development of algorithms and models that can understand\n",
    " , analyze, and generate natural language. NLP is used in a variety of applications, including machine t\n",
    " ranslation, sentiment analysis, text classification, chatbots, and speech recognition. The field of NLP i\n",
    " s constantly evolving, and new techniques and models are being developed to improve the accuracy a\n",
    " nd efficiency of natural language processing tasks.''' \n",
    "print(\"original text is: \",text) \n",
    "preprocess(text) "
   ]
  },
  {
   "cell_type": "code",
   "execution_count": null,
   "id": "e537fab7-d13d-419f-8a99-efe30878b087",
   "metadata": {},
   "outputs": [],
   "source": []
  }
 ],
 "metadata": {
  "kernelspec": {
   "display_name": "Python 3 (ipykernel)",
   "language": "python",
   "name": "python3"
  },
  "language_info": {
   "codemirror_mode": {
    "name": "ipython",
    "version": 3
   },
   "file_extension": ".py",
   "mimetype": "text/x-python",
   "name": "python",
   "nbconvert_exporter": "python",
   "pygments_lexer": "ipython3",
   "version": "3.10.5"
  }
 },
 "nbformat": 4,
 "nbformat_minor": 5
}
